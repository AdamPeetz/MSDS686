{
 "cells": [
  {
   "cell_type": "markdown",
   "metadata": {
    "id": "KVqVcVDo9aUi"
   },
   "source": [
    "Adam Peetz<br>\n",
    "MSDS 686 Deep Learning<br>\n",
    "Professor Nasheb Ismaily<br>\n",
    "Regis Jesuit University<br>\n",
    "May 15th 2022\n",
    "# Fuel Efficiency Assignment\n",
    "## Adapted from TensorFlow Tutorials\n",
    "#### Using the Boston Housing jupyter notebook as an example follow the prompts below to build a neural network to predict vehicle fuel efficiency"
   ]
  },
  {
   "cell_type": "code",
   "execution_count": 1,
   "metadata": {
    "id": "uuLZ2hhn9aUs"
   },
   "outputs": [
    {
     "data": {
      "text/html": [
       "<style>.container { width:95% !important; }</style>"
      ],
      "text/plain": [
       "<IPython.core.display.HTML object>"
      ]
     },
     "metadata": {},
     "output_type": "display_data"
    }
   ],
   "source": [
    "from IPython.core.display import display, HTML\n",
    "display(HTML(\"<style>.container { width:95% !important; }</style>\"))"
   ]
  },
  {
   "cell_type": "code",
   "execution_count": 2,
   "metadata": {
    "id": "gB-uz88U9aVH"
   },
   "outputs": [],
   "source": [
    "# Import the necessary libraries\n",
    "import matplotlib.pyplot as plt\n",
    "import pandas as pd\n",
    "import tensorflow as tf\n",
    "from tensorflow import keras\n",
    "from sklearn.model_selection import train_test_split\n",
    "from tensorflow.keras import models\n",
    "from tensorflow.keras import layers\n",
    "from tensorflow.keras import backend\n",
    "tf.random.set_seed(1234)"
   ]
  },
  {
   "cell_type": "code",
   "execution_count": 3,
   "metadata": {
    "id": "xHSh7Wz79iiN"
   },
   "outputs": [],
   "source": [
    "# Download the dataset\n",
    "dataset_path = keras.utils.get_file(\"auto-mpg.data\", \"http://archive.ics.uci.edu/ml/machine-learning-databases/auto-mpg/auto-mpg.data\")"
   ]
  },
  {
   "cell_type": "code",
   "execution_count": 4,
   "metadata": {
    "id": "joNdceRk9aVX"
   },
   "outputs": [
    {
     "data": {
      "text/html": [
       "<div>\n",
       "<style scoped>\n",
       "    .dataframe tbody tr th:only-of-type {\n",
       "        vertical-align: middle;\n",
       "    }\n",
       "\n",
       "    .dataframe tbody tr th {\n",
       "        vertical-align: top;\n",
       "    }\n",
       "\n",
       "    .dataframe thead th {\n",
       "        text-align: right;\n",
       "    }\n",
       "</style>\n",
       "<table border=\"1\" class=\"dataframe\">\n",
       "  <thead>\n",
       "    <tr style=\"text-align: right;\">\n",
       "      <th></th>\n",
       "      <th>MPG</th>\n",
       "      <th>Cylinders</th>\n",
       "      <th>Displacement</th>\n",
       "      <th>Horsepower</th>\n",
       "      <th>Weight</th>\n",
       "      <th>Acceleration</th>\n",
       "      <th>Model Year</th>\n",
       "      <th>Origin</th>\n",
       "    </tr>\n",
       "  </thead>\n",
       "  <tbody>\n",
       "    <tr>\n",
       "      <th>0</th>\n",
       "      <td>18.0</td>\n",
       "      <td>8</td>\n",
       "      <td>307.0</td>\n",
       "      <td>130.0</td>\n",
       "      <td>3504.0</td>\n",
       "      <td>12.0</td>\n",
       "      <td>70</td>\n",
       "      <td>1</td>\n",
       "    </tr>\n",
       "    <tr>\n",
       "      <th>1</th>\n",
       "      <td>15.0</td>\n",
       "      <td>8</td>\n",
       "      <td>350.0</td>\n",
       "      <td>165.0</td>\n",
       "      <td>3693.0</td>\n",
       "      <td>11.5</td>\n",
       "      <td>70</td>\n",
       "      <td>1</td>\n",
       "    </tr>\n",
       "    <tr>\n",
       "      <th>2</th>\n",
       "      <td>18.0</td>\n",
       "      <td>8</td>\n",
       "      <td>318.0</td>\n",
       "      <td>150.0</td>\n",
       "      <td>3436.0</td>\n",
       "      <td>11.0</td>\n",
       "      <td>70</td>\n",
       "      <td>1</td>\n",
       "    </tr>\n",
       "    <tr>\n",
       "      <th>3</th>\n",
       "      <td>16.0</td>\n",
       "      <td>8</td>\n",
       "      <td>304.0</td>\n",
       "      <td>150.0</td>\n",
       "      <td>3433.0</td>\n",
       "      <td>12.0</td>\n",
       "      <td>70</td>\n",
       "      <td>1</td>\n",
       "    </tr>\n",
       "    <tr>\n",
       "      <th>4</th>\n",
       "      <td>17.0</td>\n",
       "      <td>8</td>\n",
       "      <td>302.0</td>\n",
       "      <td>140.0</td>\n",
       "      <td>3449.0</td>\n",
       "      <td>10.5</td>\n",
       "      <td>70</td>\n",
       "      <td>1</td>\n",
       "    </tr>\n",
       "  </tbody>\n",
       "</table>\n",
       "</div>"
      ],
      "text/plain": [
       "    MPG  Cylinders  Displacement  Horsepower  Weight  Acceleration  \\\n",
       "0  18.0          8         307.0       130.0  3504.0          12.0   \n",
       "1  15.0          8         350.0       165.0  3693.0          11.5   \n",
       "2  18.0          8         318.0       150.0  3436.0          11.0   \n",
       "3  16.0          8         304.0       150.0  3433.0          12.0   \n",
       "4  17.0          8         302.0       140.0  3449.0          10.5   \n",
       "\n",
       "   Model Year  Origin  \n",
       "0          70       1  \n",
       "1          70       1  \n",
       "2          70       1  \n",
       "3          70       1  \n",
       "4          70       1  "
      ]
     },
     "execution_count": 4,
     "metadata": {},
     "output_type": "execute_result"
    }
   ],
   "source": [
    "# Add labels to columns and view dataset\n",
    "column_names = ['MPG','Cylinders','Displacement','Horsepower','Weight',\n",
    "                'Acceleration', 'Model Year', 'Origin']\n",
    "raw_dataset = pd.read_csv(dataset_path, names=column_names,\n",
    "                      na_values = \"?\", comment='\\t',\n",
    "                      sep=\" \", skipinitialspace=True)\n",
    "\n",
    "dataset = raw_dataset.copy()\n",
    "dataset.head()"
   ]
  },
  {
   "cell_type": "code",
   "execution_count": 5,
   "metadata": {
    "id": "g_McGq3q_MPS",
    "scrolled": true
   },
   "outputs": [
    {
     "data": {
      "text/html": [
       "<div>\n",
       "<style scoped>\n",
       "    .dataframe tbody tr th:only-of-type {\n",
       "        vertical-align: middle;\n",
       "    }\n",
       "\n",
       "    .dataframe tbody tr th {\n",
       "        vertical-align: top;\n",
       "    }\n",
       "\n",
       "    .dataframe thead th {\n",
       "        text-align: right;\n",
       "    }\n",
       "</style>\n",
       "<table border=\"1\" class=\"dataframe\">\n",
       "  <thead>\n",
       "    <tr style=\"text-align: right;\">\n",
       "      <th></th>\n",
       "      <th>MPG</th>\n",
       "      <th>Cylinders</th>\n",
       "      <th>Displacement</th>\n",
       "      <th>Horsepower</th>\n",
       "      <th>Weight</th>\n",
       "      <th>Acceleration</th>\n",
       "      <th>Model Year</th>\n",
       "      <th>USA</th>\n",
       "      <th>Europe</th>\n",
       "      <th>Japan</th>\n",
       "    </tr>\n",
       "  </thead>\n",
       "  <tbody>\n",
       "    <tr>\n",
       "      <th>393</th>\n",
       "      <td>27.0</td>\n",
       "      <td>4</td>\n",
       "      <td>140.0</td>\n",
       "      <td>86.0</td>\n",
       "      <td>2790.0</td>\n",
       "      <td>15.6</td>\n",
       "      <td>82</td>\n",
       "      <td>1.0</td>\n",
       "      <td>0.0</td>\n",
       "      <td>0.0</td>\n",
       "    </tr>\n",
       "    <tr>\n",
       "      <th>394</th>\n",
       "      <td>44.0</td>\n",
       "      <td>4</td>\n",
       "      <td>97.0</td>\n",
       "      <td>52.0</td>\n",
       "      <td>2130.0</td>\n",
       "      <td>24.6</td>\n",
       "      <td>82</td>\n",
       "      <td>0.0</td>\n",
       "      <td>1.0</td>\n",
       "      <td>0.0</td>\n",
       "    </tr>\n",
       "    <tr>\n",
       "      <th>395</th>\n",
       "      <td>32.0</td>\n",
       "      <td>4</td>\n",
       "      <td>135.0</td>\n",
       "      <td>84.0</td>\n",
       "      <td>2295.0</td>\n",
       "      <td>11.6</td>\n",
       "      <td>82</td>\n",
       "      <td>1.0</td>\n",
       "      <td>0.0</td>\n",
       "      <td>0.0</td>\n",
       "    </tr>\n",
       "    <tr>\n",
       "      <th>396</th>\n",
       "      <td>28.0</td>\n",
       "      <td>4</td>\n",
       "      <td>120.0</td>\n",
       "      <td>79.0</td>\n",
       "      <td>2625.0</td>\n",
       "      <td>18.6</td>\n",
       "      <td>82</td>\n",
       "      <td>1.0</td>\n",
       "      <td>0.0</td>\n",
       "      <td>0.0</td>\n",
       "    </tr>\n",
       "    <tr>\n",
       "      <th>397</th>\n",
       "      <td>31.0</td>\n",
       "      <td>4</td>\n",
       "      <td>119.0</td>\n",
       "      <td>82.0</td>\n",
       "      <td>2720.0</td>\n",
       "      <td>19.4</td>\n",
       "      <td>82</td>\n",
       "      <td>1.0</td>\n",
       "      <td>0.0</td>\n",
       "      <td>0.0</td>\n",
       "    </tr>\n",
       "  </tbody>\n",
       "</table>\n",
       "</div>"
      ],
      "text/plain": [
       "      MPG  Cylinders  Displacement  Horsepower  Weight  Acceleration  \\\n",
       "393  27.0          4         140.0        86.0  2790.0          15.6   \n",
       "394  44.0          4          97.0        52.0  2130.0          24.6   \n",
       "395  32.0          4         135.0        84.0  2295.0          11.6   \n",
       "396  28.0          4         120.0        79.0  2625.0          18.6   \n",
       "397  31.0          4         119.0        82.0  2720.0          19.4   \n",
       "\n",
       "     Model Year  USA  Europe  Japan  \n",
       "393          82  1.0     0.0    0.0  \n",
       "394          82  0.0     1.0    0.0  \n",
       "395          82  1.0     0.0    0.0  \n",
       "396          82  1.0     0.0    0.0  \n",
       "397          82  1.0     0.0    0.0  "
      ]
     },
     "execution_count": 5,
     "metadata": {},
     "output_type": "execute_result"
    }
   ],
   "source": [
    "# Vehicle orgin needs to be encoded to factors.  \n",
    "origin = dataset.pop('Origin')\n",
    "dataset['USA'] = (origin == 1)*1.0\n",
    "dataset['Europe'] = (origin == 2)*1.0\n",
    "dataset['Japan'] = (origin == 3)*1.0\n",
    "dataset.tail()"
   ]
  },
  {
   "cell_type": "code",
   "execution_count": 6,
   "metadata": {
    "id": "cQWXC9pi_DHE"
   },
   "outputs": [
    {
     "name": "stdout",
     "output_type": "stream",
     "text": [
      "<class 'pandas.core.frame.DataFrame'>\n",
      "Int64Index: 392 entries, 0 to 397\n",
      "Data columns (total 10 columns):\n",
      " #   Column        Non-Null Count  Dtype  \n",
      "---  ------        --------------  -----  \n",
      " 0   MPG           392 non-null    float64\n",
      " 1   Cylinders     392 non-null    int64  \n",
      " 2   Displacement  392 non-null    float64\n",
      " 3   Horsepower    392 non-null    float64\n",
      " 4   Weight        392 non-null    float64\n",
      " 5   Acceleration  392 non-null    float64\n",
      " 6   Model Year    392 non-null    int64  \n",
      " 7   USA           392 non-null    float64\n",
      " 8   Europe        392 non-null    float64\n",
      " 9   Japan         392 non-null    float64\n",
      "dtypes: float64(8), int64(2)\n",
      "memory usage: 33.7 KB\n"
     ]
    }
   ],
   "source": [
    "# Remove missing data\n",
    "cleandf = dataset.dropna(axis=0)\n",
    "cleandf.info()"
   ]
  },
  {
   "cell_type": "code",
   "execution_count": 7,
   "metadata": {
    "id": "sKLtoKX2OTvJ"
   },
   "outputs": [],
   "source": [
    "# Split dataset into X and y tragets and remove the targets from the dataset.  We are predicting MPG (fuel efficiencey) so the targets are MPG\n",
    "X = cleandf.drop(['MPG'],axis=1)\n",
    "y = cleandf['MPG']"
   ]
  },
  {
   "cell_type": "code",
   "execution_count": 8,
   "metadata": {},
   "outputs": [],
   "source": [
    "# Normalize the data by subratcing the mean from each feature and divid by one standard deviation\n",
    "mean = X.mean(axis = 0)\n",
    "X -= mean\n",
    "\n",
    "std = X.std(axis = 0)\n",
    "X /= std"
   ]
  },
  {
   "cell_type": "code",
   "execution_count": 9,
   "metadata": {
    "id": "EADoX6GgN22P"
   },
   "outputs": [],
   "source": [
    "# Spit the dataset into x_train, x_test, y_train, y_test.  \n",
    "x_train, x_test, y_train, y_test = train_test_split(X,y, test_size=0.2, shuffle= True)"
   ]
  },
  {
   "cell_type": "code",
   "execution_count": 10,
   "metadata": {
    "id": "XX2i2EUn_BHT"
   },
   "outputs": [],
   "source": [
    "# Built a sequential neural network model.  Start with backend.clear_session()\n",
    "# Think about what activation function you will use, the input shape, number of nodes, and output shape and activation\n",
    "backend.clear_session()\n",
    "model = models.Sequential()\n",
    "model.add(layers.Dense(64, activation = 'relu', input_shape = (X.shape[1],)))\n",
    "model.add(layers.Dense(64, activation = 'relu'))\n",
    "model.add(layers.Dense(1, activation='linear'))"
   ]
  },
  {
   "cell_type": "markdown",
   "metadata": {},
   "source": [
    "### Building an input layer.\n",
    "\n",
    "The number of neurons in the input layer should be equal to the number of features in the dataset.\n",
    "\n",
    "### Building an output layer.\n",
    "<b>Neuron Count</b>\n",
    "<br>\n",
    "The number of neurons in the output layer should be equal to the number of variables in the output.\n",
    "<br>\n",
    "For a categorization task this is equal to the number of labels. \n",
    "<br>\n",
    "For a regression task this is equal to 1.\n",
    "<br>\n",
    "<br>\n",
    "<b>Activation Function</b>\n",
    "<br>\n",
    "SoftMax activations are used for classification problems where only one class needs to be chosen.\n",
    "<br>\n",
    "Sigmoid activations are used for multilabel problems, in which more than one class can be chosen.\n",
    "<br>\n",
    "Linear activations are appropriate for regression problems. <br>\n",
    "<br>\n",
    "\n",
    "Brownlee, Jason.(2021).choose an activation function for deep learning. MachineLearning Mastery.com.https://machinelearningmastery.com/choose-an-activation-function-for-deep-learning/"
   ]
  },
  {
   "cell_type": "code",
   "execution_count": 11,
   "metadata": {
    "id": "A3mv0oLBR3XW"
   },
   "outputs": [],
   "source": [
    "# Compile the model.  Use 'adam' optimizer.  Think about what loss function and metrics you need to use for a regression problem\n",
    "model.compile(optimizer = 'adam', loss  = 'mae', metrics=['mae'])"
   ]
  },
  {
   "cell_type": "markdown",
   "metadata": {},
   "source": [
    "### Choosing a loss function\n",
    "\n",
    "Regression Loss Functions</br>\n",
    "- Mean Squared Error Loss\n",
    "- Mean Squared Logarithmic Error Loss\n",
    "- Mean Absolute Error Loss\n",
    "\n",
    "Binary Classification Loss Functions </br>\n",
    "- Binary Cross-Entropy\n",
    "- Hinge Loss\n",
    "- Squared Hinge Loss\n",
    "\n",
    "Multiple Class Loss Functions </br>\n",
    "- Multi-Class Cross-Entropy Loss\n",
    "- Sparse Multiclass Cross-Entropy Loss\n",
    "- Kullback Leibler Divergence Loss\n",
    "\n",
    "### Choosing metrics\n",
    "\n",
    "Accuracy is an acceptable metric for a binary classification function.<br>\n",
    "\n",
    "Both accuracy and categorical_accuracy are appropriate metrics for a multiclass classification problem.<br>\n",
    "\n",
    "MAE and MSE are acceptable loss and metrics functions for a regression problem.\n"
   ]
  },
  {
   "cell_type": "code",
   "execution_count": 12,
   "metadata": {
    "id": "vJ8KVfLF_Hv1"
   },
   "outputs": [],
   "source": [
    "history = model.fit(x_train,\n",
    "                   y_train,\n",
    "                   epochs = 1000,\n",
    "                   batch_size=100,\n",
    "                   validation_split = 0.2,\n",
    "                   verbose = 0)"
   ]
  },
  {
   "cell_type": "code",
   "execution_count": 13,
   "metadata": {
    "id": "oRfKjuM8UB5T"
   },
   "outputs": [
    {
     "name": "stdout",
     "output_type": "stream",
     "text": [
      "          loss        mae   val_loss    val_mae\n",
      "0    23.264294  23.264294  23.630926  23.630926\n",
      "1    22.968315  22.968315  23.351854  23.351854\n",
      "2    22.659649  22.659649  23.061825  23.061825\n",
      "3    22.342789  22.342789  22.757631  22.757631\n",
      "4    22.013729  22.013729  22.440706  22.440706\n",
      "..         ...        ...        ...        ...\n",
      "995   1.181588   1.181588   1.819747   1.819747\n",
      "996   1.170741   1.170741   1.871426   1.871426\n",
      "997   1.162092   1.162092   1.843948   1.843948\n",
      "998   1.175562   1.175562   1.826289   1.826289\n",
      "999   1.160460   1.160460   1.831838   1.831838\n",
      "\n",
      "[1000 rows x 4 columns]\n"
     ]
    }
   ],
   "source": [
    "# Use this bit of code to view the History output.\n",
    "hist = pd.DataFrame(history.history)\n",
    "print(hist)"
   ]
  },
  {
   "cell_type": "code",
   "execution_count": 14,
   "metadata": {
    "id": "Hr819dPc9aXk"
   },
   "outputs": [],
   "source": [
    "#Plot the loss and MAE vs epochs\n",
    "history_dict = history.history\n",
    "loss_values = history_dict['loss']\n",
    "val_loss_values = history_dict['val_loss']\n",
    "acc_values = history_dict['mae']\n",
    "val_acc_values = history_dict['val_mae']\n",
    "epochs = range(1, len(history_dict['mae']) + 1)"
   ]
  },
  {
   "cell_type": "code",
   "execution_count": 15,
   "metadata": {
    "id": "TXiqSkQo9aXs"
   },
   "outputs": [
    {
     "data": {
      "image/png": "[encoded data removed]",
      "text/plain": [
       "<Figure size 432x288 with 1 Axes>"
      ]
     },
     "metadata": {
      "needs_background": "light"
     },
     "output_type": "display_data"
    }
   ],
   "source": [
    "# Use the Boston Housing example to plot the validataion and training loss vs epochs\n",
    "plt.plot(epochs, loss_values, 'r', label = 'Training loss')\n",
    "plt.plot(epochs, val_loss_values, 'b', label = 'Validation loss')\n",
    "plt.ylim(0,20)\n",
    "plt.title('Training and validation loss')\n",
    "plt.xlabel('Epochs')\n",
    "plt.ylabel('Loss')\n",
    "plt.legend()\n",
    "plt.show()"
   ]
  },
  {
   "cell_type": "code",
   "execution_count": 16,
   "metadata": {
    "id": "04CcZh8x9aYH",
    "scrolled": true
   },
   "outputs": [
    {
     "data": {
      "image/png": "[encoded data removed]",
      "text/plain": [
       "<Figure size 432x288 with 1 Axes>"
      ]
     },
     "metadata": {
      "needs_background": "light"
     },
     "output_type": "display_data"
    }
   ],
   "source": [
    "# Use the Boston Housing example to plot the validataion and training mean absolute error vs epochs\n",
    "plt.plot(epochs, acc_values, 'r', label = 'Training MAE')\n",
    "plt.plot(epochs, val_acc_values, 'b', label = 'Validation MAE')\n",
    "plt.ylim(0,5)\n",
    "plt.title('Training and validation MAE')\n",
    "plt.xlabel('Epochs')\n",
    "plt.ylabel('MAE')\n",
    "plt.legend()\n",
    "plt.show()"
   ]
  },
  {
   "cell_type": "code",
   "execution_count": 17,
   "metadata": {
    "id": "7RRZWTz_9aYR"
   },
   "outputs": [
    {
     "name": "stdout",
     "output_type": "stream",
     "text": [
      "3/3 [==============================] - 0s 1ms/step - loss: 2.1318 - mae: 2.1318\n",
      "[2.131824016571045, 2.131824016571045]\n",
      "['loss', 'mae']\n"
     ]
    }
   ],
   "source": [
    "# Evaluate the model on the test data and print the results\n",
    "results = model.evaluate(x_test, y_test)\n",
    "print(results)\n",
    "print(model.metrics_names)"
   ]
  },
  {
   "cell_type": "markdown",
   "metadata": {},
   "source": [
    "# Model Discussion\n",
    "\n",
    "The sequential model had a mean average error of about 2 when tested on the test dataset. For any MPG that was predicted, it was on average 2 MPG off the actual MPG.<br>\n",
    "<br>\n",
    "The validation loss and MAE stopped improving around 50 epochs. The model should be trained for around 50 epochs and stopped to prevent it from becoming overfitted to the training data.<br>\n",
    "<br>\n",
    "Fuel efficiency has a high correlation to certain variables in the dataset. Features like the weight of a vehicle and its engine displacement are more impactful than its production year or country of origin. A model should be able to successfully predict fuel efficiency with only a few neurons trained to ignore the features that do not have high correlation to the target variable. Given enough epochs, it should be able to reduce the effect the weights of non-correlated features and converge on an optimal solution. <br>\n",
    "<br>\n",
    "To test this assumption, a new network architecture has been created that contains 5 neurons in a single hidden layer. The number of epochs in the test is increased to 2,000 to give the model time to train down the non-effective feature weights. The reduced model performs similarly in training and test, achieving a MAE score of around 2 MPG on both training and test data. This model is slower to train than the deeper model. It needs around 700 epochs to settle on a solution compared to about 100 needed by the original model.\n"
   ]
  },
  {
   "cell_type": "code",
   "execution_count": 25,
   "metadata": {},
   "outputs": [
    {
     "data": {
      "image/png": "[encoded data removed]",
      "text/plain": [
       "<Figure size 432x288 with 1 Axes>"
      ]
     },
     "metadata": {
      "needs_background": "light"
     },
     "output_type": "display_data"
    },
    {
     "data": {
      "image/png": "[encoded data removed]",
      "text/plain": [
       "<Figure size 432x288 with 1 Axes>"
      ]
     },
     "metadata": {
      "needs_background": "light"
     },
     "output_type": "display_data"
    },
    {
     "name": "stdout",
     "output_type": "stream",
     "text": [
      "3/3 [==============================] - 0s 2ms/step - loss: 2.1467 - mae: 2.1467\n",
      "[2.1467339992523193, 2.1467339992523193]\n",
      "['loss', 'mae']\n"
     ]
    }
   ],
   "source": [
    "# Clear your session using this command: backend.clear_session() \n",
    "# Things to try: more hidden layers and hiddent units, activation types, epochs, batch size, and validation_split.\n",
    "# Try as many models as you like.  Be sure to clear the session each time.  backend.clear_session() \n",
    "backend.clear_session()\n",
    "model = models.Sequential()\n",
    "model.add(layers.Dense(5, activation = 'relu', input_shape = (X.shape[1],)))\n",
    "model.add(layers.Dense(1, activation='linear'))\n",
    "\n",
    "# Compile the model.  Use 'adam' optimizer.  Think about what loss function and metrics you need to use for a regression problem\n",
    "model.compile(optimizer = 'adam', loss  = 'mae', metrics=['mae'])\n",
    "\n",
    "history = model.fit(x_train,\n",
    "                   y_train,\n",
    "                   epochs = 2000,\n",
    "                   batch_size=100,\n",
    "                   validation_split = 0.2,\n",
    "                   verbose = 0)\n",
    "\n",
    "#Plot the loss and MAE vs epochs\n",
    "history_dict = history.history\n",
    "loss_values = history_dict['loss']\n",
    "val_loss_values = history_dict['val_loss']\n",
    "acc_values = history_dict['mae']\n",
    "val_acc_values = history_dict['val_mae']\n",
    "epochs = range(1, len(history_dict['mae']) + 1)\n",
    "\n",
    "# Use the Boston Housing example to plot the validataion and training loss vs epochs\n",
    "plt.plot(epochs, loss_values, 'r', label = 'Training loss')\n",
    "plt.plot(epochs, val_loss_values, 'b', label = 'Validation loss')\n",
    "plt.title('Training and validation loss')\n",
    "plt.ylim(0,20)\n",
    "plt.xlabel('Epochs')\n",
    "plt.ylabel('Loss')\n",
    "plt.legend()\n",
    "plt.show()\n",
    "\n",
    "# Use the Boston Housing example to plot the validataion and training mean absolute error vs epochs\n",
    "plt.plot(epochs, acc_values, 'r', label = 'Training MAE')\n",
    "plt.plot(epochs, val_acc_values, 'b', label = 'Validation MAE')\n",
    "plt.title('Training and validation MAE')\n",
    "plt.ylim(0,5)\n",
    "plt.xlabel('Epochs')\n",
    "plt.ylabel('MAE')\n",
    "plt.legend()\n",
    "plt.show()\n",
    "\n",
    "# Evaluate the model on the test data and print the results\n",
    "results = model.evaluate(x_test, y_test)\n",
    "print(results)\n",
    "print(model.metrics_names)"
   ]
  },
  {
   "cell_type": "code",
   "execution_count": 26,
   "metadata": {},
   "outputs": [
    {
     "name": "stdout",
     "output_type": "stream",
     "text": [
      "           loss        mae   val_loss    val_mae\n",
      "0     22.807583  22.807583  23.438656  23.438656\n",
      "1     22.782991  22.782991  23.415905  23.415905\n",
      "2     22.758018  22.758018  23.393160  23.393160\n",
      "3     22.733334  22.733334  23.370338  23.370338\n",
      "4     22.708691  22.708691  23.347570  23.347570\n",
      "...         ...        ...        ...        ...\n",
      "1995   1.741089   1.741089   1.807359   1.807359\n",
      "1996   1.740688   1.740688   1.806443   1.806443\n",
      "1997   1.740363   1.740363   1.806832   1.806832\n",
      "1998   1.741516   1.741516   1.806149   1.806149\n",
      "1999   1.740135   1.740135   1.802653   1.802653\n",
      "\n",
      "[2000 rows x 4 columns]\n"
     ]
    }
   ],
   "source": [
    "# Use this bit of code to view the History output.\n",
    "hist = pd.DataFrame(history.history)\n",
    "print(hist)"
   ]
  },
  {
   "cell_type": "code",
   "execution_count": null,
   "metadata": {},
   "outputs": [],
   "source": []
  }
 ],
 "metadata": {
  "colab": {
   "collapsed_sections": [],
   "name": "Fuel_Efficiency_Assignment.ipynb",
   "provenance": []
  },
  "kernelspec": {
   "display_name": "Python 3",
   "language": "python",
   "name": "python3"
  },
  "language_info": {
   "codemirror_mode": {
    "name": "ipython",
    "version": 3
   },
   "file_extension": ".py",
   "mimetype": "text/x-python",
   "name": "python",
   "nbconvert_exporter": "python",
   "pygments_lexer": "ipython3",
   "version": "3.8.8"
  }
 },
 "nbformat": 4,
 "nbformat_minor": 1
}
